{
 "cells": [
  {
   "cell_type": "code",
   "execution_count": null,
   "metadata": {},
   "outputs": [],
   "source": []
  },
  {
   "cell_type": "code",
   "execution_count": 1,
   "metadata": {},
   "outputs": [],
   "source": [
    "%load_ext autoreload\n",
    "%autoreload 2\n",
    "\n",
    "import sys\n",
    "sys.path.append(\"/data/tim/heronWorkspace/src\")\n",
    "sys.path.append(\"/data/tim/heronWorkspace/AE\")\n",
    "sys.path.append(\"/data/tim/heronWorkspace/classifier\")\n",
    "from ClassifierDatasets import DatasetThreeConsecutive\n",
    "from sklearn.model_selection import ParameterSampler\n",
    "from scipy.stats import loguniform, uniform\n",
    "import numpy as np\n",
    "import pandas as pd\n",
    "from torch.utils.data import DataLoader"
   ]
  },
  {
   "cell_type": "markdown",
   "metadata": {},
   "source": [
    "# Params:\n",
    "- different CAE\n",
    "- cameraProps - cutoff on the sides\n",
    "- gaussian filter params / min-filter params\n",
    "- zero thresholds\n",
    "- sum threshold\n",
    "- dataset props"
   ]
  },
  {
   "cell_type": "code",
   "execution_count": 32,
   "metadata": {},
   "outputs": [],
   "source": [
    "random_state = 1\n",
    "distributions = dict(\n",
    "    cameras = [[\"NEN1\", \"SBU3\"]],\n",
    "    balanced = [True, False],\n",
    "    distinctCAETraining = [True, False],\n",
    "    filter = \"MinFilter\", #[\"MinFilter\", \"GaussianFilter\"]\n",
    "    zeroThreshold = uniform(0.15, 0.25), # loguniform(0.15, 0.4), #threshold for zeroing out the image\n",
    "    sumThreshold = uniform(0.5, 20)\n",
    ")\n",
    "\n",
    "sampler = ParameterSampler(distributions, n_iter=30, random_state=random_state)\n",
    "\n",
    "loaderParams = dict(\n",
    "    lblValidationMode = \"Manual\",\n",
    "    balanced = False,\n",
    "    anomalyObviousness = \"obvious\",\n",
    "    distinctCAETraining = False,\n",
    "    colorMode = \"RGB\",\n",
    "    random_state = 1,\n",
    "    set = \"all\"\n",
    ")\n",
    "\n",
    "filterParams = [3],\n",
    "\n",
    "caePath = '/data/tim/heronWorkspace/logs/CAEV1/version_3/checkpoints/epoch=49-step=19350.ckpt',\n"
   ]
  },
  {
   "cell_type": "code",
   "execution_count": 34,
   "metadata": {},
   "outputs": [
    {
     "name": "stdout",
     "output_type": "stream",
     "text": [
      "Length of dataset: 3\n",
      "Length of dataset: 3\n",
      "Length of dataset: 3\n",
      "Length of dataset: 3\n",
      "Length of dataset: 3\n",
      "Length of dataset: 3\n",
      "Length of dataset: 3\n",
      "Length of dataset: 3\n",
      "Length of dataset: 3\n",
      "Length of dataset: 3\n",
      "Length of dataset: 3\n",
      "Length of dataset: 3\n",
      "Length of dataset: 3\n",
      "Length of dataset: 3\n",
      "Length of dataset: 3\n",
      "Length of dataset: 3\n",
      "Length of dataset: 3\n",
      "Length of dataset: 3\n",
      "Length of dataset: 3\n",
      "Length of dataset: 3\n",
      "Length of dataset: 3\n",
      "Length of dataset: 3\n",
      "Length of dataset: 3\n",
      "Length of dataset: 3\n",
      "Length of dataset: 3\n",
      "Length of dataset: 3\n",
      "Length of dataset: 3\n",
      "Length of dataset: 3\n",
      "Length of dataset: 3\n",
      "Length of dataset: 3\n"
     ]
    }
   ],
   "source": [
    "\n",
    "for params in sampler:\n",
    "    dataset = DatasetThreeConsecutive(cameras=params[\"cameras\"], **loaderParams)\n",
    "    print(f'Length of dataset: {len(dataset)}')\n",
    "    # loader = DataLoader(dataset, batch_size=16, shuffle=False, num_workers=2)\n"
   ]
  },
  {
   "cell_type": "code",
   "execution_count": null,
   "metadata": {},
   "outputs": [],
   "source": [
    "try:\n",
    "    df = pd.read_csv(\"./resultsBasicClassifier.csv\")\n",
    "except:\n",
    "    df = pd.DataFrame(columns = params.keys(), )"
   ]
  }
 ],
 "metadata": {
  "kernelspec": {
   "display_name": "heronsTim",
   "language": "python",
   "name": "python3"
  },
  "language_info": {
   "codemirror_mode": {
    "name": "ipython",
    "version": 3
   },
   "file_extension": ".py",
   "mimetype": "text/x-python",
   "name": "python",
   "nbconvert_exporter": "python",
   "pygments_lexer": "ipython3",
   "version": "3.8.18"
  }
 },
 "nbformat": 4,
 "nbformat_minor": 2
}
