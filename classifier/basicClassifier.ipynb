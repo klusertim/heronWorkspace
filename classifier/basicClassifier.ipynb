{
 "cells": [
  {
   "cell_type": "code",
   "execution_count": null,
   "metadata": {},
   "outputs": [],
   "source": []
  },
  {
   "cell_type": "code",
   "execution_count": 7,
   "metadata": {},
   "outputs": [
    {
     "name": "stdout",
     "output_type": "stream",
     "text": [
      "The autoreload extension is already loaded. To reload it, use:\n",
      "  %reload_ext autoreload\n"
     ]
    }
   ],
   "source": [
    "%load_ext autoreload\n",
    "%autoreload 2\n",
    "\n",
    "import sys\n",
    "sys.path.append(\"/data/tim/heronWorkspace/src\")\n",
    "sys.path.append(\"/data/tim/heronWorkspace/AE\")\n",
    "sys.path.append(\"/data/tim/heronWorkspace/classifier\")\n",
    "sys.path.append(\"/data/tim/heronWorkspace/\")\n",
    "\n",
    "\n",
    "from AEHeronModelV1 import AEHeronModel\n",
    "from AEHeronModelV2 import CAEHeron\n",
    "from lightning.pytorch.callbacks import ModelSummary\n",
    "from torchsummary import summary\n",
    "import HeronImageLoader\n",
    "from torch.utils.data import DataLoader, BatchSampler\n",
    "from matplotlib import pyplot as plt\n",
    "import lightning.pytorch as pl\n",
    "from lightning.pytorch.tuner import Tuner\n",
    "import pandas as pd\n",
    "from lightning.pytorch.loggers import CSVLogger\n",
    "from MLPV1 import MLP, MLPMSEHeatMap\n",
    "from models import MLPBasic, CAEBigBottleneck, CAESmallBottleneckWithLinear, MLPBasicHeatMap, CAEV1\n",
    "import numpy as np\n",
    "import torch.nn.functional as F\n",
    "import torch\n",
    "from torchvision.transforms import GaussianBlur\n",
    "from PIL import Image, ImageFilter\n",
    "import random\n",
    "from scipy.stats import loguniform\n",
    "from ClassifierDatasets import DatasetThreeConsecutive, UnNormalize\n",
    "# from torchmetrics.image import StructuralSimilarityIndexMeasure\n",
    "from skimage.metrics import structural_similarity as ssim\n",
    "import seaborn as sns\n",
    "from sklearn.model_selection import ParameterSampler\n",
    "from scipy.stats import loguniform, uniform\n",
    "import functorch\n",
    "from sklearn.metrics import confusion_matrix\n",
    "# from torchmetrics import ConfusionMatrix\n",
    "\n",
    "sns.set_theme()\n",
    "\n",
    "\n"
   ]
  },
  {
   "cell_type": "markdown",
   "metadata": {},
   "source": [
    "# Params:\n",
    "- different CAE\n",
    "- cameraProps - cutoff on the sides\n",
    "- gaussian filter params / min-filter params\n",
    "- zero thresholds\n",
    "- sum threshold\n",
    "- dataset props"
   ]
  },
  {
   "cell_type": "code",
   "execution_count": 8,
   "metadata": {},
   "outputs": [
    {
     "name": "stdout",
     "output_type": "stream",
     "text": [
      "\"batch_size\":         16\n",
      "\"bottleneck\":         128\n",
      "\"cameras\":            ['NEN1', 'SBU3']\n",
      "\"gammaScheduler\":     0.7879353477950641\n",
      "\"ldim\":               16\n",
      "\"learning_rate\":      0.003533238255084643\n",
      "\"num_workers_loader\": 4\n",
      "\"transforms\":         None\n",
      "\"weight_decay\":       4.5387898639621974e-07\n"
     ]
    }
   ],
   "source": [
    "loaderParams = dict(\n",
    "    lblValidationMode = \"Manual\",\n",
    "    balanced = True,\n",
    "    anomalyObviousness = \"obvious\",\n",
    "    distinctCAETraining = False,\n",
    "    colorMode = \"RGB\",\n",
    "    random_state = 1,\n",
    "    set = \"all\"\n",
    ")\n",
    "\n",
    "distributions = dict(\n",
    "    cameras = [[\"NEN1\", \"SBU3\"]],\n",
    "    balanced = [True, False],\n",
    "    distinctCAETraining = [True, False],\n",
    "    gaussianFilterSize = [5],\n",
    "    gaussianFilterSigma = [3, 5, 7],\n",
    "    filter = [\"MinFilter\"], #[\"MinFilter\", \"GaussianFilter\"]\n",
    "    zeroThreshold = uniform(0.15, 0.25), # loguniform(0.15, 0.4), #threshold for zeroing out the image\n",
    "    sumThreshold = uniform(0.5, 20),\n",
    "    lossFn = [\"L1\"]#[\"MSE\", \"L1\"],\n",
    ")\n",
    "\n",
    "sampler = ParameterSampler(distributions, n_iter=10, random_state=loaderParams[\"random_state\"])\n",
    "\n",
    "includeCameraProps = False\n",
    "model = CAEV1\n",
    "\n",
    "checkPoint = '/data/tim/heronWorkspace/logs/CAEV1/version_3/checkpoints/epoch=49-step=19350.ckpt'\n",
    "caeLoaded = CAEHeron.load_from_checkpoint(checkPoint, model = model)\n",
    "caeLoaded.freeze()\n",
    "print(caeLoaded.hparams)\n",
    "\n",
    "fileName = \"basicCAETest\"\n",
    "columns = [\"trueLbl\", \"predictedLbl\", \"ImagePath\", \"includeCameraProps\", \"CAECheckPoint\", \"isCAETrainingCamera\"] + list(loaderParams.keys()) + list(distributions.keys()) \n",
    "try:\n",
    "    df = pd.read_csv(f\"/data/tim/heronWorkspace/caeTestData/{fileName}.csv\")\n",
    "except:\n",
    "    df = pd.DataFrame(columns=columns)\n"
   ]
  },
  {
   "cell_type": "code",
   "execution_count": 9,
   "metadata": {},
   "outputs": [],
   "source": [
    "def min_filter(tensor, kernel_size=3):\n",
    "    # Unfold the tensor into sliding local blocks\n",
    "    unfolded = tensor.unfold(2, kernel_size, 1).unfold(3, kernel_size, 1)\n",
    "    # Compute the minimum in each of these blocks\n",
    "    return unfolded.min(dim=-1)[0].min(dim=-1)[0]"
   ]
  },
  {
   "cell_type": "code",
   "execution_count": 10,
   "metadata": {},
   "outputs": [
    {
     "data": {
      "text/plain": [
       "tensor([[[[[0, 0, 0],\n",
       "           [1, 1, 1],\n",
       "           [2, 2, 2]],\n",
       "\n",
       "          [[0, 0, 0],\n",
       "           [1, 1, 1],\n",
       "           [2, 2, 2]],\n",
       "\n",
       "          [[0, 0, 0],\n",
       "           [1, 1, 1],\n",
       "           [2, 2, 2]]],\n",
       "\n",
       "\n",
       "         [[[1, 1, 1],\n",
       "           [2, 2, 2],\n",
       "           [3, 3, 3]],\n",
       "\n",
       "          [[1, 1, 1],\n",
       "           [2, 2, 2],\n",
       "           [3, 3, 3]],\n",
       "\n",
       "          [[1, 1, 1],\n",
       "           [2, 2, 2],\n",
       "           [3, 3, 3]]],\n",
       "\n",
       "\n",
       "         [[[2, 2, 2],\n",
       "           [3, 3, 3],\n",
       "           [4, 4, 4]],\n",
       "\n",
       "          [[2, 2, 2],\n",
       "           [3, 3, 3],\n",
       "           [4, 4, 4]],\n",
       "\n",
       "          [[2, 2, 2],\n",
       "           [3, 3, 3],\n",
       "           [4, 4, 4]]]]])"
      ]
     },
     "execution_count": 10,
     "metadata": {},
     "output_type": "execute_result"
    }
   ],
   "source": [
    "a = torch.tensor([[[0] * 5, [1] * 5, [2] * 5, [3] * 5, [4] * 5]]).unfold(1, 3, 1)\n",
    "a.unfold(2, 3, 1)"
   ]
  },
  {
   "cell_type": "code",
   "execution_count": 11,
   "metadata": {},
   "outputs": [
    {
     "name": "stdout",
     "output_type": "stream",
     "text": [
      "Length of dataset: 18\n",
      "{'balanced': False, 'cameras': ['NEN1', 'SBU3'], 'distinctCAETraining': False, 'filter': 'MinFilter', 'gaussianFilterSigma': 3, 'gaussianFilterSize': 5, 'lossFn': 'L1', 'sumThreshold': 19.151147186773176, 'zeroThreshold': 0.18203111198233918}\n",
      "[[ 0.          1.         49.70231247]\n",
      " [ 0.          1.         49.82901001]\n",
      " [ 0.          1.         49.64953232]\n",
      " [ 0.          1.         49.814785  ]\n",
      " [ 0.          1.         49.99646378]\n",
      " [ 0.          1.         49.67459106]\n",
      " [ 0.          1.         49.66547394]\n",
      " [ 1.          1.         49.79439545]\n",
      " [ 1.          1.         50.20623779]\n",
      " [ 1.          1.         49.67211533]\n",
      " [ 1.          1.         54.33518219]\n",
      " [ 1.          1.         49.73361206]\n",
      " [ 1.          1.         50.48670578]\n",
      " [ 1.          1.         50.68915558]\n",
      " [ 0.          1.         49.87984467]\n",
      " [ 0.          1.         51.59374619]\n",
      " [ 1.          1.         50.15819931]\n",
      " [ 1.          1.         49.98086548]]\n"
     ]
    },
    {
     "data": {
      "image/png": "[encoded data removed]",
      "text/plain": [
       "<Figure size 600x300 with 2 Axes>"
      ]
     },
     "metadata": {},
     "output_type": "display_data"
    },
    {
     "name": "stdout",
     "output_type": "stream",
     "text": [
      "Length of dataset: 18\n",
      "{'balanced': False, 'cameras': ['NEN1', 'SBU3'], 'distinctCAETraining': False, 'filter': 'MinFilter', 'gaussianFilterSigma': 3, 'gaussianFilterSize': 5, 'lossFn': 'L1', 'sumThreshold': 2.346771895375956, 'zeroThreshold': 0.19656505284441772}\n",
      "[[ 0.          1.         53.65921783]\n",
      " [ 0.          1.         53.76800156]\n",
      " [ 0.          1.         53.61371231]\n",
      " [ 0.          1.         53.76600647]\n",
      " [ 0.          1.         53.93216324]\n",
      " [ 0.          1.         53.63486099]\n",
      " [ 0.          1.         53.62552643]\n",
      " [ 1.          1.         53.7475853 ]\n",
      " [ 1.          1.         54.15100479]\n",
      " [ 1.          1.         53.63283157]\n",
      " [ 1.          1.         58.24240875]\n",
      " [ 1.          1.         53.68948746]\n",
      " [ 1.          1.         54.42709351]\n",
      " [ 1.          1.         54.57976151]\n",
      " [ 0.          1.         53.82987976]\n",
      " [ 0.          1.         55.42205048]\n",
      " [ 1.          1.         54.10793304]\n",
      " [ 1.          1.         53.92733765]]\n"
     ]
    },
    {
     "data": {
      "image/png": "[encoded data removed]",
      "text/plain": [
       "<Figure size 600x300 with 2 Axes>"
      ]
     },
     "metadata": {},
     "output_type": "display_data"
    },
    {
     "name": "stdout",
     "output_type": "stream",
     "text": [
      "Length of dataset: 18\n",
      "{'balanced': False, 'cameras': ['NEN1', 'SBU3'], 'distinctCAETraining': True, 'filter': 'MinFilter', 'gaussianFilterSigma': 7, 'gaussianFilterSize': 5, 'lossFn': 'L1', 'sumThreshold': 19.210781416120636, 'zeroThreshold': 0.36157772917150427}\n",
      "[[  0.           1.          98.63289642]\n",
      " [  0.           1.          98.64498138]\n",
      " [  0.           1.          98.6213913 ]\n",
      " [  0.           1.          98.69038391]\n",
      " [  0.           1.          98.75159454]\n",
      " [  0.           1.          98.62228394]\n",
      " [  0.           1.          98.6213913 ]\n",
      " [  1.           1.          98.67621613]\n",
      " [  1.           1.          98.99718475]\n",
      " [  1.           1.          98.6235199 ]\n",
      " [  1.           1.         102.73098755]\n",
      " [  1.           1.          98.64873505]\n",
      " [  1.           1.          99.24207306]\n",
      " [  1.           1.          99.08148193]\n",
      " [  0.           1.          98.74478149]\n",
      " [  0.           1.          99.45509338]\n",
      " [  1.           1.          98.99176025]\n",
      " [  1.           1.          98.79856873]]\n"
     ]
    },
    {
     "data": {
      "image/png": "[encoded data removed]",
      "text/plain": [
       "<Figure size 600x300 with 2 Axes>"
      ]
     },
     "metadata": {},
     "output_type": "display_data"
    },
    {
     "name": "stdout",
     "output_type": "stream",
     "text": [
      "Length of dataset: 18\n",
      "{'balanced': False, 'cameras': ['NEN1', 'SBU3'], 'distinctCAETraining': True, 'filter': 'MinFilter', 'gaussianFilterSigma': 3, 'gaussianFilterSize': 5, 'lossFn': 'L1', 'sumThreshold': 4.589044994630349, 'zeroThreshold': 0.3695293590977363}\n",
      "[[  0.           1.         100.80109406]\n",
      " [  0.           1.         100.81186676]\n",
      " [  0.           1.         100.79024506]\n",
      " [  0.           1.         100.85690308]\n",
      " [  0.           1.         100.91520691]\n",
      " [  0.           1.         100.79090881]\n",
      " [  0.           1.         100.79024506]\n",
      " [  1.           1.         100.84234619]\n",
      " [  1.           1.         101.16010284]\n",
      " [  1.           1.         100.79205322]\n",
      " [  1.           1.         104.87885284]\n",
      " [  1.           1.         100.81616974]\n",
      " [  1.           1.         101.40354919]\n",
      " [  1.           1.         101.23527527]\n",
      " [  0.           1.         100.91051483]\n",
      " [  0.           1.         101.5957489 ]\n",
      " [  1.           1.         101.15563965]\n",
      " [  1.           1.         100.96296692]]\n"
     ]
    },
    {
     "data": {
      "image/png": "[encoded data removed]",
      "text/plain": [
       "<Figure size 600x300 with 2 Axes>"
      ]
     },
     "metadata": {},
     "output_type": "display_data"
    },
    {
     "name": "stdout",
     "output_type": "stream",
     "text": [
      "Length of dataset: 18\n",
      "{'balanced': False, 'cameras': ['NEN1', 'SBU3'], 'distinctCAETraining': True, 'filter': 'MinFilter', 'gaussianFilterSigma': 7, 'gaussianFilterSize': 5, 'lossFn': 'L1', 'sumThreshold': 18.77924049158466, 'zeroThreshold': 0.26430120199674706}\n",
      "[[ 0.          1.         72.11380768]\n",
      " [ 0.          1.         72.16213989]\n",
      " [ 0.          1.         72.08895111]\n",
      " [ 0.          1.         72.19644928]\n",
      " [ 0.          1.         72.30647278]\n",
      " [ 0.          1.         72.09738922]\n",
      " [ 0.          1.         72.09139252]\n",
      " [ 1.          1.         72.18435669]\n",
      " [ 1.          1.         72.54930878]\n",
      " [ 1.          1.         72.09828949]\n",
      " [ 1.          1.         76.48033905]\n",
      " [ 1.          1.         72.13919067]\n",
      " [ 1.          1.         72.81166077]\n",
      " [ 1.          1.         72.79039764]\n",
      " [ 0.          1.         72.25849152]\n",
      " [ 0.          1.         73.38973999]\n",
      " [ 1.          1.         72.52628326]\n",
      " [ 1.          1.         72.33387756]]\n"
     ]
    },
    {
     "data": {
      "image/png": "[encoded data removed]",
      "text/plain": [
       "<Figure size 600x300 with 2 Axes>"
      ]
     },
     "metadata": {},
     "output_type": "display_data"
    },
    {
     "name": "stdout",
     "output_type": "stream",
     "text": [
      "Length of dataset: 18\n",
      "{'balanced': False, 'cameras': ['NEN1', 'SBU3'], 'distinctCAETraining': False, 'filter': 'MinFilter', 'gaussianFilterSigma': 7, 'gaussianFilterSize': 5, 'lossFn': 'L1', 'sumThreshold': 4.462029781697575, 'zeroThreshold': 0.35018614216888416}\n",
      "[[ 0.          1.         95.52684021]\n",
      " [ 0.          1.         95.54110718]\n",
      " [ 0.          1.         95.51434326]\n",
      " [ 0.          1.         95.58686066]\n",
      " [ 0.          1.         95.65239716]\n",
      " [ 0.          1.         95.5157547 ]\n",
      " [ 0.          1.         95.51434326]\n",
      " [ 1.          1.         95.57331085]\n",
      " [ 1.          1.         95.89890289]\n",
      " [ 1.          1.         95.51704407]\n",
      " [ 1.          1.         99.65448761]\n",
      " [ 1.          1.         95.5437851 ]\n",
      " [ 1.          1.         96.14571381]\n",
      " [ 1.          1.         95.99681854]\n",
      " [ 0.          1.         95.64239502]\n",
      " [ 0.          1.         96.39057159]\n",
      " [ 1.          1.         95.89200592]\n",
      " [ 1.          1.         95.69817352]]\n"
     ]
    },
    {
     "data": {
      "image/png": "[encoded data removed]",
      "text/plain": [
       "<Figure size 600x300 with 2 Axes>"
      ]
     },
     "metadata": {},
     "output_type": "display_data"
    },
    {
     "name": "stdout",
     "output_type": "stream",
     "text": [
      "Length of dataset: 18\n",
      "{'balanced': False, 'cameras': ['NEN1', 'SBU3'], 'distinctCAETraining': False, 'filter': 'MinFilter', 'gaussianFilterSigma': 5, 'gaussianFilterSize': 5, 'lossFn': 'L1', 'sumThreshold': 14.346452313386282, 'zeroThreshold': 0.36909728807400954}\n",
      "[[  0.           1.         100.6832962 ]\n",
      " [  0.           1.         100.69413757]\n",
      " [  0.           1.         100.67241669]\n",
      " [  0.           1.         100.73918915]\n",
      " [  0.           1.         100.79764557]\n",
      " [  0.           1.         100.67308807]\n",
      " [  0.           1.         100.67241669]\n",
      " [  1.           1.         100.72465515]\n",
      " [  1.           1.         101.04259491]\n",
      " [  1.           1.         100.67424011]\n",
      " [  1.           1.         104.76213837]\n",
      " [  1.           1.         100.69841003]\n",
      " [  1.           1.         101.28611755]\n",
      " [  1.           1.         101.11824799]\n",
      " [  0.           1.         100.79285431]\n",
      " [  0.           1.         101.47943115]\n",
      " [  1.           1.         101.03807068]\n",
      " [  1.           1.         100.84537506]]\n"
     ]
    },
    {
     "data": {
      "image/png": "[encoded data removed]",
      "text/plain": [
       "<Figure size 600x300 with 2 Axes>"
      ]
     },
     "metadata": {},
     "output_type": "display_data"
    },
    {
     "name": "stdout",
     "output_type": "stream",
     "text": [
      "Length of dataset: 18\n",
      "{'balanced': True, 'cameras': ['NEN1', 'SBU3'], 'distinctCAETraining': False, 'filter': 'MinFilter', 'gaussianFilterSigma': 3, 'gaussianFilterSize': 5, 'lossFn': 'L1', 'sumThreshold': 17.09206718788367, 'zeroThreshold': 0.21826249355418684}\n",
      "[[ 0.          1.         59.56858063]\n",
      " [ 0.          1.         59.65410233]\n",
      " [ 0.          1.         59.53174973]\n",
      " [ 0.          1.         59.66727448]\n",
      " [ 0.          1.         59.81274414]\n",
      " [ 0.          1.         59.54788208]\n",
      " [ 0.          1.         59.5391922 ]\n",
      " [ 1.          1.         59.65132523]\n",
      " [ 1.          1.         60.04188919]\n",
      " [ 1.          1.         59.54693222]\n",
      " [ 1.          1.         64.07950592]\n",
      " [ 1.          1.         59.59768295]\n",
      " [ 1.          1.         60.31299973]\n",
      " [ 1.          1.         60.39989471]\n",
      " [ 0.          1.         59.73031616]\n",
      " [ 0.          1.         61.15564346]\n",
      " [ 1.          1.         60.00600052]\n",
      " [ 1.          1.         59.82102966]]\n"
     ]
    },
    {
     "data": {
      "image/png": "[encoded data removed]",
      "text/plain": [
       "<Figure size 600x300 with 2 Axes>"
      ]
     },
     "metadata": {},
     "output_type": "display_data"
    },
    {
     "name": "stdout",
     "output_type": "stream",
     "text": [
      "Length of dataset: 18\n",
      "{'balanced': True, 'cameras': ['NEN1', 'SBU3'], 'distinctCAETraining': False, 'filter': 'MinFilter', 'gaussianFilterSigma': 3, 'gaussianFilterSize': 5, 'lossFn': 'L1', 'sumThreshold': 2.466936676661002, 'zeroThreshold': 0.25527690625126304}\n",
      "[[ 0.          1.         69.65418243]\n",
      " [ 0.          1.         69.70857239]\n",
      " [ 0.          1.         69.62750244]\n",
      " [ 0.          1.         69.7399292 ]\n",
      " [ 0.          1.         69.85592651]\n",
      " [ 0.          1.         69.6370163 ]\n",
      " [ 0.          1.         69.63071442]\n",
      " [ 1.          1.         69.72738647]\n",
      " [ 1.          1.         70.09688568]\n",
      " [ 1.          1.         69.63777924]\n",
      " [ 1.          1.         74.04790497]\n",
      " [ 1.          1.         69.6805191 ]\n",
      " [ 1.          1.         70.36105347]\n",
      " [ 1.          1.         70.35834503]\n",
      " [ 0.          1.         69.80213928]\n",
      " [ 0.          1.         70.98548126]\n",
      " [ 1.          1.         70.07167816]\n",
      " [ 1.          1.         69.88040161]]\n"
     ]
    },
    {
     "data": {
      "image/png": "[encoded data removed]",
      "text/plain": [
       "<Figure size 600x300 with 2 Axes>"
      ]
     },
     "metadata": {},
     "output_type": "display_data"
    },
    {
     "name": "stdout",
     "output_type": "stream",
     "text": [
      "Length of dataset: 18\n",
      "{'balanced': False, 'cameras': ['NEN1', 'SBU3'], 'distinctCAETraining': False, 'filter': 'MinFilter', 'gaussianFilterSigma': 5, 'gaussianFilterSize': 5, 'lossFn': 'L1', 'sumThreshold': 4.4510179596956245, 'zeroThreshold': 0.2224074101364531}\n",
      "[[ 0.          1.         60.69761658]\n",
      " [ 0.          1.         60.77920914]\n",
      " [ 0.          1.         60.66226578]\n",
      " [ 0.          1.         60.79493332]\n",
      " [ 0.          1.         60.93668365]\n",
      " [ 0.          1.         60.67751312]\n",
      " [ 0.          1.         60.66907501]\n",
      " [ 1.          1.         60.77937317]\n",
      " [ 1.          1.         61.16746521]\n",
      " [ 1.          1.         60.67683411]\n",
      " [ 1.          1.         65.19510651]\n",
      " [ 1.          1.         60.72655106]\n",
      " [ 1.          1.         61.43783951]\n",
      " [ 1.          1.         61.51336288]\n",
      " [ 0.          1.         60.85783005]\n",
      " [ 0.          1.         62.25344086]\n",
      " [ 1.          1.         61.1329422 ]\n",
      " [ 1.          1.         60.94717789]]\n"
     ]
    },
    {
     "data": {
      "image/png": "[encoded data removed]",
      "text/plain": [
       "<Figure size 600x300 with 2 Axes>"
      ]
     },
     "metadata": {},
     "output_type": "display_data"
    },
    {
     "ename": "ValueError",
     "evalue": "zero-size array to reduction operation fmin which has no identity",
     "output_type": "error",
     "traceback": [
      "\u001b[0;31m---------------------------------------------------------------------------\u001b[0m",
      "\u001b[0;31mValueError\u001b[0m                                Traceback (most recent call last)",
      "Cell \u001b[0;32mIn[11], line 69\u001b[0m\n\u001b[1;32m     67\u001b[0m confMat \u001b[38;5;241m=\u001b[39m confusion_matrix(df[\u001b[38;5;124m\"\u001b[39m\u001b[38;5;124mtrueLbl\u001b[39m\u001b[38;5;124m\"\u001b[39m], df[\u001b[38;5;124m\"\u001b[39m\u001b[38;5;124mpredictedLbl\u001b[39m\u001b[38;5;124m\"\u001b[39m])\n\u001b[1;32m     68\u001b[0m plt\u001b[38;5;241m.\u001b[39mfigure(figsize \u001b[38;5;241m=\u001b[39m (\u001b[38;5;241m6\u001b[39m,\u001b[38;5;241m3\u001b[39m))\n\u001b[0;32m---> 69\u001b[0m \u001b[43msns\u001b[49m\u001b[38;5;241;43m.\u001b[39;49m\u001b[43mheatmap\u001b[49m\u001b[43m(\u001b[49m\u001b[43mconfMat\u001b[49m\u001b[43m,\u001b[49m\u001b[43m \u001b[49m\u001b[43mannot\u001b[49m\u001b[38;5;241;43m=\u001b[39;49m\u001b[38;5;28;43;01mTrue\u001b[39;49;00m\u001b[43m)\u001b[49m\n\u001b[1;32m     70\u001b[0m plt\u001b[38;5;241m.\u001b[39mshow()\n",
      "File \u001b[0;32m~/.local/lib/python3.8/site-packages/seaborn/matrix.py:446\u001b[0m, in \u001b[0;36mheatmap\u001b[0;34m(data, vmin, vmax, cmap, center, robust, annot, fmt, annot_kws, linewidths, linecolor, cbar, cbar_kws, cbar_ax, square, xticklabels, yticklabels, mask, ax, **kwargs)\u001b[0m\n\u001b[1;32m    365\u001b[0m \u001b[38;5;250m\u001b[39m\u001b[38;5;124;03m\"\"\"Plot rectangular data as a color-encoded matrix.\u001b[39;00m\n\u001b[1;32m    366\u001b[0m \n\u001b[1;32m    367\u001b[0m \u001b[38;5;124;03mThis is an Axes-level function and will draw the heatmap into the\u001b[39;00m\n\u001b[0;32m   (...)\u001b[0m\n\u001b[1;32m    443\u001b[0m \n\u001b[1;32m    444\u001b[0m \u001b[38;5;124;03m\"\"\"\u001b[39;00m\n\u001b[1;32m    445\u001b[0m \u001b[38;5;66;03m# Initialize the plotter object\u001b[39;00m\n\u001b[0;32m--> 446\u001b[0m plotter \u001b[38;5;241m=\u001b[39m \u001b[43m_HeatMapper\u001b[49m\u001b[43m(\u001b[49m\u001b[43mdata\u001b[49m\u001b[43m,\u001b[49m\u001b[43m \u001b[49m\u001b[43mvmin\u001b[49m\u001b[43m,\u001b[49m\u001b[43m \u001b[49m\u001b[43mvmax\u001b[49m\u001b[43m,\u001b[49m\u001b[43m \u001b[49m\u001b[43mcmap\u001b[49m\u001b[43m,\u001b[49m\u001b[43m \u001b[49m\u001b[43mcenter\u001b[49m\u001b[43m,\u001b[49m\u001b[43m \u001b[49m\u001b[43mrobust\u001b[49m\u001b[43m,\u001b[49m\u001b[43m \u001b[49m\u001b[43mannot\u001b[49m\u001b[43m,\u001b[49m\u001b[43m \u001b[49m\u001b[43mfmt\u001b[49m\u001b[43m,\u001b[49m\n\u001b[1;32m    447\u001b[0m \u001b[43m                      \u001b[49m\u001b[43mannot_kws\u001b[49m\u001b[43m,\u001b[49m\u001b[43m \u001b[49m\u001b[43mcbar\u001b[49m\u001b[43m,\u001b[49m\u001b[43m \u001b[49m\u001b[43mcbar_kws\u001b[49m\u001b[43m,\u001b[49m\u001b[43m \u001b[49m\u001b[43mxticklabels\u001b[49m\u001b[43m,\u001b[49m\n\u001b[1;32m    448\u001b[0m \u001b[43m                      \u001b[49m\u001b[43myticklabels\u001b[49m\u001b[43m,\u001b[49m\u001b[43m \u001b[49m\u001b[43mmask\u001b[49m\u001b[43m)\u001b[49m\n\u001b[1;32m    450\u001b[0m \u001b[38;5;66;03m# Add the pcolormesh kwargs here\u001b[39;00m\n\u001b[1;32m    451\u001b[0m kwargs[\u001b[38;5;124m\"\u001b[39m\u001b[38;5;124mlinewidths\u001b[39m\u001b[38;5;124m\"\u001b[39m] \u001b[38;5;241m=\u001b[39m linewidths\n",
      "File \u001b[0;32m~/.local/lib/python3.8/site-packages/seaborn/matrix.py:163\u001b[0m, in \u001b[0;36m_HeatMapper.__init__\u001b[0;34m(self, data, vmin, vmax, cmap, center, robust, annot, fmt, annot_kws, cbar, cbar_kws, xticklabels, yticklabels, mask)\u001b[0m\n\u001b[1;32m    160\u001b[0m \u001b[38;5;28mself\u001b[39m\u001b[38;5;241m.\u001b[39mylabel \u001b[38;5;241m=\u001b[39m ylabel \u001b[38;5;28;01mif\u001b[39;00m ylabel \u001b[38;5;129;01mis\u001b[39;00m \u001b[38;5;129;01mnot\u001b[39;00m \u001b[38;5;28;01mNone\u001b[39;00m \u001b[38;5;28;01melse\u001b[39;00m \u001b[38;5;124m\"\u001b[39m\u001b[38;5;124m\"\u001b[39m\n\u001b[1;32m    162\u001b[0m \u001b[38;5;66;03m# Determine good default values for the colormapping\u001b[39;00m\n\u001b[0;32m--> 163\u001b[0m \u001b[38;5;28;43mself\u001b[39;49m\u001b[38;5;241;43m.\u001b[39;49m\u001b[43m_determine_cmap_params\u001b[49m\u001b[43m(\u001b[49m\u001b[43mplot_data\u001b[49m\u001b[43m,\u001b[49m\u001b[43m \u001b[49m\u001b[43mvmin\u001b[49m\u001b[43m,\u001b[49m\u001b[43m \u001b[49m\u001b[43mvmax\u001b[49m\u001b[43m,\u001b[49m\n\u001b[1;32m    164\u001b[0m \u001b[43m                            \u001b[49m\u001b[43mcmap\u001b[49m\u001b[43m,\u001b[49m\u001b[43m \u001b[49m\u001b[43mcenter\u001b[49m\u001b[43m,\u001b[49m\u001b[43m \u001b[49m\u001b[43mrobust\u001b[49m\u001b[43m)\u001b[49m\n\u001b[1;32m    166\u001b[0m \u001b[38;5;66;03m# Sort out the annotations\u001b[39;00m\n\u001b[1;32m    167\u001b[0m \u001b[38;5;28;01mif\u001b[39;00m annot \u001b[38;5;129;01mis\u001b[39;00m \u001b[38;5;28;01mNone\u001b[39;00m \u001b[38;5;129;01mor\u001b[39;00m annot \u001b[38;5;129;01mis\u001b[39;00m \u001b[38;5;28;01mFalse\u001b[39;00m:\n",
      "File \u001b[0;32m~/.local/lib/python3.8/site-packages/seaborn/matrix.py:202\u001b[0m, in \u001b[0;36m_HeatMapper._determine_cmap_params\u001b[0;34m(self, plot_data, vmin, vmax, cmap, center, robust)\u001b[0m\n\u001b[1;32m    200\u001b[0m         vmin \u001b[38;5;241m=\u001b[39m np\u001b[38;5;241m.\u001b[39mnanpercentile(calc_data, \u001b[38;5;241m2\u001b[39m)\n\u001b[1;32m    201\u001b[0m     \u001b[38;5;28;01melse\u001b[39;00m:\n\u001b[0;32m--> 202\u001b[0m         vmin \u001b[38;5;241m=\u001b[39m \u001b[43mnp\u001b[49m\u001b[38;5;241;43m.\u001b[39;49m\u001b[43mnanmin\u001b[49m\u001b[43m(\u001b[49m\u001b[43mcalc_data\u001b[49m\u001b[43m)\u001b[49m\n\u001b[1;32m    203\u001b[0m \u001b[38;5;28;01mif\u001b[39;00m vmax \u001b[38;5;129;01mis\u001b[39;00m \u001b[38;5;28;01mNone\u001b[39;00m:\n\u001b[1;32m    204\u001b[0m     \u001b[38;5;28;01mif\u001b[39;00m robust:\n",
      "File \u001b[0;32m<__array_function__ internals>:200\u001b[0m, in \u001b[0;36mnanmin\u001b[0;34m(*args, **kwargs)\u001b[0m\n",
      "File \u001b[0;32m~/.local/lib/python3.8/site-packages/numpy/lib/nanfunctions.py:343\u001b[0m, in \u001b[0;36mnanmin\u001b[0;34m(a, axis, out, keepdims, initial, where)\u001b[0m\n\u001b[1;32m    338\u001b[0m     kwargs[\u001b[38;5;124m'\u001b[39m\u001b[38;5;124mwhere\u001b[39m\u001b[38;5;124m'\u001b[39m] \u001b[38;5;241m=\u001b[39m where\n\u001b[1;32m    340\u001b[0m \u001b[38;5;28;01mif\u001b[39;00m \u001b[38;5;28mtype\u001b[39m(a) \u001b[38;5;129;01mis\u001b[39;00m np\u001b[38;5;241m.\u001b[39mndarray \u001b[38;5;129;01mand\u001b[39;00m a\u001b[38;5;241m.\u001b[39mdtype \u001b[38;5;241m!=\u001b[39m np\u001b[38;5;241m.\u001b[39mobject_:\n\u001b[1;32m    341\u001b[0m     \u001b[38;5;66;03m# Fast, but not safe for subclasses of ndarray, or object arrays,\u001b[39;00m\n\u001b[1;32m    342\u001b[0m     \u001b[38;5;66;03m# which do not implement isnan (gh-9009), or fmin correctly (gh-8975)\u001b[39;00m\n\u001b[0;32m--> 343\u001b[0m     res \u001b[38;5;241m=\u001b[39m \u001b[43mnp\u001b[49m\u001b[38;5;241;43m.\u001b[39;49m\u001b[43mfmin\u001b[49m\u001b[38;5;241;43m.\u001b[39;49m\u001b[43mreduce\u001b[49m\u001b[43m(\u001b[49m\u001b[43ma\u001b[49m\u001b[43m,\u001b[49m\u001b[43m \u001b[49m\u001b[43maxis\u001b[49m\u001b[38;5;241;43m=\u001b[39;49m\u001b[43maxis\u001b[49m\u001b[43m,\u001b[49m\u001b[43m \u001b[49m\u001b[43mout\u001b[49m\u001b[38;5;241;43m=\u001b[39;49m\u001b[43mout\u001b[49m\u001b[43m,\u001b[49m\u001b[43m \u001b[49m\u001b[38;5;241;43m*\u001b[39;49m\u001b[38;5;241;43m*\u001b[39;49m\u001b[43mkwargs\u001b[49m\u001b[43m)\u001b[49m\n\u001b[1;32m    344\u001b[0m     \u001b[38;5;28;01mif\u001b[39;00m np\u001b[38;5;241m.\u001b[39misnan(res)\u001b[38;5;241m.\u001b[39many():\n\u001b[1;32m    345\u001b[0m         warnings\u001b[38;5;241m.\u001b[39mwarn(\u001b[38;5;124m\"\u001b[39m\u001b[38;5;124mAll-NaN slice encountered\u001b[39m\u001b[38;5;124m\"\u001b[39m, \u001b[38;5;167;01mRuntimeWarning\u001b[39;00m,\n\u001b[1;32m    346\u001b[0m                       stacklevel\u001b[38;5;241m=\u001b[39m\u001b[38;5;241m3\u001b[39m)\n",
      "\u001b[0;31mValueError\u001b[0m: zero-size array to reduction operation fmin which has no identity"
     ]
    },
    {
     "data": {
      "text/plain": [
       "<Figure size 600x300 with 0 Axes>"
      ]
     },
     "metadata": {},
     "output_type": "display_data"
    }
   ],
   "source": [
    "#TODO: include camerProps\n",
    "\n",
    "# confMat = ConfusionMatrix(task=\"binary\", num_classes=2)\n",
    "unnorm = UnNormalize(mean=0.5, std=0.5)\n",
    "\n",
    "for params in sampler:\n",
    "    dataset = DatasetThreeConsecutive(cameras=params[\"cameras\"], resize_to=CAEV1.imsize, **loaderParams)\n",
    "    print(f'Length of dataset: {len(dataset)}')\n",
    "    print(params)\n",
    "    dataLoader = DataLoader(dataset, batch_size=8, shuffle=False, num_workers=2)\n",
    "\n",
    "    blur = GaussianBlur(kernel_size=5, sigma=3) #TODO: make this a parameter\n",
    "    lossFn = F.mse_loss if params[\"lossFn\"] == \"MSE\" else F.l1_loss\n",
    "    vals = []\n",
    "    for (imArr, lblArr, camera, ImagePath) in dataLoader:\n",
    "        isTrainingCamera = camera in caeLoaded.hparams.cameras\n",
    "        prevImg = imArr[0] #alwasy #batch_size images\n",
    "        currImg = imArr[1]\n",
    "        nextImg = imArr[2]\n",
    "\n",
    "        prevPred, currPred, nextPred = [unnorm(caeLoaded(x.to(caeLoaded.device))) for x in [prevImg, currImg, nextImg]]\n",
    "        prevImg, currImg, nextImg = [unnorm(x) for x in [prevImg, currImg, nextImg]]\n",
    "\n",
    "        prevImgBlurred, currImgBlurred, nextImgBlurred = [blur.forward(x).to(prevPred.device) for x in [prevImg, currImg, nextImg]]\n",
    "        \n",
    "        prevImd, currImd, nextImd = [torch.sum(F.mse_loss(imgBlurred, pred, reduction='none'), dim=1) for imgBlurred, pred in zip([prevImgBlurred, currImgBlurred, nextImgBlurred], [prevPred, currPred, nextPred])]\n",
    "\n",
    "        prevToCurrImd = torch.clamp(torch.sub(currImd, prevImd), min= 0)\n",
    "        nextToCurrImd = torch.clamp(torch.sub(currImd, nextImd), min= 0)\n",
    "\n",
    "        prevNextCurrImd = torch.div(torch.add(prevToCurrImd, nextToCurrImd), 2)\n",
    "\n",
    "        prevNextCurrImdMin = min_filter(prevNextCurrImd, kernel_size=3)\n",
    "        \n",
    "        prevNextCurrImdMin.clamp_(min=params[\"zeroThreshold\"])\n",
    "\n",
    "        sumPrevNextCurrImdMin = torch.div(torch.sum(prevNextCurrImdMin, dim=(1, 2)), 255)\n",
    "        predictions = (sumPrevNextCurrImdMin> params[\"sumThreshold\"]).to(torch.int)\n",
    "\n",
    "        for i in range(len(predictions)):\n",
    "            vals.append([lblArr[i].item(), predictions[i].item(), sumPrevNextCurrImdMin[i].item()])\n",
    "        #     dfNew = pd.DataFrame(columns=columns, )\n",
    "        #     dfNew = df.append(dict(zip(columns, [lblArr[i].item(), predictions[i].item(), ImagePath[i], includeCameraProps, checkPoint, isTrainingCamera] + list(loaderParams.values()) + list(params.values()))), ignore_index=True)\n",
    "        \n",
    "        # df.to_csv(f\"/data/tim/heronWorkspace/caeTestData/{fileName}.csv\", index=False)\n",
    "\n",
    "        # print(predictions)\n",
    "        # print(prevNextCurrImdMin.shape)\n",
    "        # print(torch.max(prevNextCurrImdMin))\n",
    "        # print(imArr[0].shape)\n",
    "        # print(len(imArr))\n",
    "        # print(len(lblArr))\n",
    "\n",
    "    # confMat\n",
    "    vals = np.array(vals)\n",
    "    print(vals)\n",
    "    # print(vals[:, 0])\n",
    "    # print(vals[:, 1])\n",
    "    confMat = confusion_matrix(vals[:, 0], vals[:,1])\n",
    "    plt.figure(figsize = (6,3))\n",
    "    sns.heatmap(confMat, annot=True)\n",
    "    plt.show()\n",
    "    vals = []\n",
    "\n",
    "        \n",
    "\n",
    "# confusionMatrix\n",
    "confMat = confusion_matrix(df[\"trueLbl\"], df[\"predictedLbl\"])\n",
    "plt.figure(figsize = (6,3))\n",
    "sns.heatmap(confMat, annot=True)\n",
    "plt.show()"
   ]
  },
  {
   "cell_type": "code",
   "execution_count": null,
   "metadata": {},
   "outputs": [],
   "source": []
  },
  {
   "cell_type": "code",
   "execution_count": null,
   "metadata": {},
   "outputs": [],
   "source": [
    "try:\n",
    "    df = pd.read_csv(\"./resultsBasicClassifier.csv\")\n",
    "except:\n",
    "    df = pd.DataFrame(columns = params.keys(), )"
   ]
  }
 ],
 "metadata": {
  "kernelspec": {
   "display_name": "heronsTim",
   "language": "python",
   "name": "python3"
  },
  "language_info": {
   "codemirror_mode": {
    "name": "ipython",
    "version": 3
   },
   "file_extension": ".py",
   "mimetype": "text/x-python",
   "name": "python",
   "nbconvert_exporter": "python",
   "pygments_lexer": "ipython3",
   "version": "3.8.18"
  }
 },
 "nbformat": 4,
 "nbformat_minor": 2
}
